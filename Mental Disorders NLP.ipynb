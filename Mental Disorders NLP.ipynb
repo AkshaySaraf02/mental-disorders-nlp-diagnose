{
 "cells": [
  {
   "cell_type": "code",
   "execution_count": 51,
   "id": "5a4793a0",
   "metadata": {},
   "outputs": [],
   "source": [
    "# Importing required libraries\n",
    "\n",
    "import pandas as pd\n",
    "import numpy as np\n",
    "\n",
    "import matplotlib.pyplot as plt\n",
    "\n",
    "from sklearn.model_selection import train_test_split\n",
    "from sklearn.feature_extraction.text import CountVectorizer\n",
    "from sklearn.naive_bayes import MultinomialNB\n",
    "\n",
    "from nltk.stem import WordNetLemmatizer\n",
    "from nltk.corpus import stopwords\n",
    "from nltk.tokenize import word_tokenize"
   ]
  },
  {
   "cell_type": "code",
   "execution_count": 2,
   "id": "8f554027",
   "metadata": {},
   "outputs": [],
   "source": [
    "df = pd.read_csv(\"mental_disorders_reddit.csv\")"
   ]
  },
  {
   "cell_type": "code",
   "execution_count": 3,
   "id": "0f5bdc3b",
   "metadata": {},
   "outputs": [
    {
     "data": {
      "text/html": [
       "<div>\n",
       "<style scoped>\n",
       "    .dataframe tbody tr th:only-of-type {\n",
       "        vertical-align: middle;\n",
       "    }\n",
       "\n",
       "    .dataframe tbody tr th {\n",
       "        vertical-align: top;\n",
       "    }\n",
       "\n",
       "    .dataframe thead th {\n",
       "        text-align: right;\n",
       "    }\n",
       "</style>\n",
       "<table border=\"1\" class=\"dataframe\">\n",
       "  <thead>\n",
       "    <tr style=\"text-align: right;\">\n",
       "      <th></th>\n",
       "      <th>title</th>\n",
       "      <th>selftext</th>\n",
       "      <th>created_utc</th>\n",
       "      <th>over_18</th>\n",
       "      <th>subreddit</th>\n",
       "    </tr>\n",
       "  </thead>\n",
       "  <tbody>\n",
       "    <tr>\n",
       "      <th>0</th>\n",
       "      <td>Life is so pointless without others</td>\n",
       "      <td>Does anyone else think the most important part...</td>\n",
       "      <td>1650356960</td>\n",
       "      <td>False</td>\n",
       "      <td>BPD</td>\n",
       "    </tr>\n",
       "    <tr>\n",
       "      <th>1</th>\n",
       "      <td>Cold rage?</td>\n",
       "      <td>Hello fellow friends 😄\\n\\nI'm on the BPD spect...</td>\n",
       "      <td>1650356660</td>\n",
       "      <td>False</td>\n",
       "      <td>BPD</td>\n",
       "    </tr>\n",
       "    <tr>\n",
       "      <th>2</th>\n",
       "      <td>I don’t know who I am</td>\n",
       "      <td>My [F20] bf [M20] told me today (after I said ...</td>\n",
       "      <td>1650355379</td>\n",
       "      <td>False</td>\n",
       "      <td>BPD</td>\n",
       "    </tr>\n",
       "    <tr>\n",
       "      <th>3</th>\n",
       "      <td>HELP! Opinions! Advice!</td>\n",
       "      <td>Okay, I’m about to open up about many things I...</td>\n",
       "      <td>1650353430</td>\n",
       "      <td>False</td>\n",
       "      <td>BPD</td>\n",
       "    </tr>\n",
       "    <tr>\n",
       "      <th>4</th>\n",
       "      <td>help</td>\n",
       "      <td>[removed]</td>\n",
       "      <td>1650350907</td>\n",
       "      <td>False</td>\n",
       "      <td>BPD</td>\n",
       "    </tr>\n",
       "    <tr>\n",
       "      <th>...</th>\n",
       "      <td>...</td>\n",
       "      <td>...</td>\n",
       "      <td>...</td>\n",
       "      <td>...</td>\n",
       "      <td>...</td>\n",
       "    </tr>\n",
       "    <tr>\n",
       "      <th>701782</th>\n",
       "      <td>Where can you go to get help for someone menta...</td>\n",
       "      <td>Someone (a war veteran) I know is mentally ill...</td>\n",
       "      <td>1396298261</td>\n",
       "      <td>False</td>\n",
       "      <td>mentalillness</td>\n",
       "    </tr>\n",
       "    <tr>\n",
       "      <th>701783</th>\n",
       "      <td>I am rooster illusion</td>\n",
       "      <td>AMA</td>\n",
       "      <td>1344639905</td>\n",
       "      <td>False</td>\n",
       "      <td>mentalillness</td>\n",
       "    </tr>\n",
       "    <tr>\n",
       "      <th>701784</th>\n",
       "      <td>I look again to make sure so one is near me an...</td>\n",
       "      <td>NaN</td>\n",
       "      <td>1353891546</td>\n",
       "      <td>False</td>\n",
       "      <td>mentalillness</td>\n",
       "    </tr>\n",
       "    <tr>\n",
       "      <th>701785</th>\n",
       "      <td>NAMI | Peer-to-Peer is a unique, experiential ...</td>\n",
       "      <td>NaN</td>\n",
       "      <td>1348724331</td>\n",
       "      <td>False</td>\n",
       "      <td>mentalillness</td>\n",
       "    </tr>\n",
       "    <tr>\n",
       "      <th>701786</th>\n",
       "      <td>crazy motherfucker</td>\n",
       "      <td>so i have a lot of random impluses. crazy shit...</td>\n",
       "      <td>1321506737</td>\n",
       "      <td>False</td>\n",
       "      <td>mentalillness</td>\n",
       "    </tr>\n",
       "  </tbody>\n",
       "</table>\n",
       "<p>701787 rows × 5 columns</p>\n",
       "</div>"
      ],
      "text/plain": [
       "                                                    title  \\\n",
       "0                     Life is so pointless without others   \n",
       "1                                              Cold rage?   \n",
       "2                                   I don’t know who I am   \n",
       "3                                 HELP! Opinions! Advice!   \n",
       "4                                                    help   \n",
       "...                                                   ...   \n",
       "701782  Where can you go to get help for someone menta...   \n",
       "701783                              I am rooster illusion   \n",
       "701784  I look again to make sure so one is near me an...   \n",
       "701785  NAMI | Peer-to-Peer is a unique, experiential ...   \n",
       "701786                                 crazy motherfucker   \n",
       "\n",
       "                                                 selftext  created_utc  \\\n",
       "0       Does anyone else think the most important part...   1650356960   \n",
       "1       Hello fellow friends 😄\\n\\nI'm on the BPD spect...   1650356660   \n",
       "2       My [F20] bf [M20] told me today (after I said ...   1650355379   \n",
       "3       Okay, I’m about to open up about many things I...   1650353430   \n",
       "4                                               [removed]   1650350907   \n",
       "...                                                   ...          ...   \n",
       "701782  Someone (a war veteran) I know is mentally ill...   1396298261   \n",
       "701783                                                AMA   1344639905   \n",
       "701784                                                NaN   1353891546   \n",
       "701785                                                NaN   1348724331   \n",
       "701786  so i have a lot of random impluses. crazy shit...   1321506737   \n",
       "\n",
       "        over_18      subreddit  \n",
       "0         False            BPD  \n",
       "1         False            BPD  \n",
       "2         False            BPD  \n",
       "3         False            BPD  \n",
       "4         False            BPD  \n",
       "...         ...            ...  \n",
       "701782    False  mentalillness  \n",
       "701783    False  mentalillness  \n",
       "701784    False  mentalillness  \n",
       "701785    False  mentalillness  \n",
       "701786    False  mentalillness  \n",
       "\n",
       "[701787 rows x 5 columns]"
      ]
     },
     "execution_count": 3,
     "metadata": {},
     "output_type": "execute_result"
    }
   ],
   "source": [
    "df"
   ]
  },
  {
   "cell_type": "code",
   "execution_count": 4,
   "id": "27e9bdef",
   "metadata": {},
   "outputs": [],
   "source": [
    "df.drop(\"created_utc\", axis=1, inplace=True)"
   ]
  },
  {
   "cell_type": "code",
   "execution_count": 5,
   "id": "0be9e571",
   "metadata": {},
   "outputs": [
    {
     "data": {
      "text/plain": [
       "title        0\n",
       "selftext     0\n",
       "over_18      0\n",
       "subreddit    0\n",
       "dtype: int64"
      ]
     },
     "execution_count": 5,
     "metadata": {},
     "output_type": "execute_result"
    }
   ],
   "source": [
    "df.dropna(inplace=True)\n",
    "df.isnull().sum()"
   ]
  },
  {
   "cell_type": "code",
   "execution_count": 6,
   "id": "438352b8",
   "metadata": {},
   "outputs": [],
   "source": [
    "df = df[df[\"selftext\"] != \"[removed]\"] # Filtering unusable data"
   ]
  },
  {
   "cell_type": "code",
   "execution_count": 7,
   "id": "f017533c",
   "metadata": {},
   "outputs": [
    {
     "data": {
      "text/html": [
       "<div>\n",
       "<style scoped>\n",
       "    .dataframe tbody tr th:only-of-type {\n",
       "        vertical-align: middle;\n",
       "    }\n",
       "\n",
       "    .dataframe tbody tr th {\n",
       "        vertical-align: top;\n",
       "    }\n",
       "\n",
       "    .dataframe thead th {\n",
       "        text-align: right;\n",
       "    }\n",
       "</style>\n",
       "<table border=\"1\" class=\"dataframe\">\n",
       "  <thead>\n",
       "    <tr style=\"text-align: right;\">\n",
       "      <th></th>\n",
       "      <th>title</th>\n",
       "      <th>selftext</th>\n",
       "      <th>over_18</th>\n",
       "      <th>subreddit</th>\n",
       "    </tr>\n",
       "  </thead>\n",
       "  <tbody>\n",
       "    <tr>\n",
       "      <th>0</th>\n",
       "      <td>Life is so pointless without others</td>\n",
       "      <td>Does anyone else think the most important part...</td>\n",
       "      <td>False</td>\n",
       "      <td>BPD</td>\n",
       "    </tr>\n",
       "    <tr>\n",
       "      <th>1</th>\n",
       "      <td>Cold rage?</td>\n",
       "      <td>Hello fellow friends 😄\\n\\nI'm on the BPD spect...</td>\n",
       "      <td>False</td>\n",
       "      <td>BPD</td>\n",
       "    </tr>\n",
       "    <tr>\n",
       "      <th>2</th>\n",
       "      <td>I don’t know who I am</td>\n",
       "      <td>My [F20] bf [M20] told me today (after I said ...</td>\n",
       "      <td>False</td>\n",
       "      <td>BPD</td>\n",
       "    </tr>\n",
       "    <tr>\n",
       "      <th>3</th>\n",
       "      <td>HELP! Opinions! Advice!</td>\n",
       "      <td>Okay, I’m about to open up about many things I...</td>\n",
       "      <td>False</td>\n",
       "      <td>BPD</td>\n",
       "    </tr>\n",
       "    <tr>\n",
       "      <th>5</th>\n",
       "      <td>My ex got diagnosed with BPD</td>\n",
       "      <td>Without going into detail, this diagnosis expl...</td>\n",
       "      <td>False</td>\n",
       "      <td>BPD</td>\n",
       "    </tr>\n",
       "    <tr>\n",
       "      <th>...</th>\n",
       "      <td>...</td>\n",
       "      <td>...</td>\n",
       "      <td>...</td>\n",
       "      <td>...</td>\n",
       "    </tr>\n",
       "    <tr>\n",
       "      <th>701779</th>\n",
       "      <td>I really need to talk to a therapist..</td>\n",
       "      <td>I can't afford a real session and it's 11 PM. ...</td>\n",
       "      <td>False</td>\n",
       "      <td>mentalillness</td>\n",
       "    </tr>\n",
       "    <tr>\n",
       "      <th>701781</th>\n",
       "      <td>I have pica</td>\n",
       "      <td>Hello. \\n         I'm taking steps to get rid ...</td>\n",
       "      <td>False</td>\n",
       "      <td>mentalillness</td>\n",
       "    </tr>\n",
       "    <tr>\n",
       "      <th>701782</th>\n",
       "      <td>Where can you go to get help for someone menta...</td>\n",
       "      <td>Someone (a war veteran) I know is mentally ill...</td>\n",
       "      <td>False</td>\n",
       "      <td>mentalillness</td>\n",
       "    </tr>\n",
       "    <tr>\n",
       "      <th>701783</th>\n",
       "      <td>I am rooster illusion</td>\n",
       "      <td>AMA</td>\n",
       "      <td>False</td>\n",
       "      <td>mentalillness</td>\n",
       "    </tr>\n",
       "    <tr>\n",
       "      <th>701786</th>\n",
       "      <td>crazy motherfucker</td>\n",
       "      <td>so i have a lot of random impluses. crazy shit...</td>\n",
       "      <td>False</td>\n",
       "      <td>mentalillness</td>\n",
       "    </tr>\n",
       "  </tbody>\n",
       "</table>\n",
       "<p>581217 rows × 4 columns</p>\n",
       "</div>"
      ],
      "text/plain": [
       "                                                    title  \\\n",
       "0                     Life is so pointless without others   \n",
       "1                                              Cold rage?   \n",
       "2                                   I don’t know who I am   \n",
       "3                                 HELP! Opinions! Advice!   \n",
       "5                            My ex got diagnosed with BPD   \n",
       "...                                                   ...   \n",
       "701779             I really need to talk to a therapist..   \n",
       "701781                                        I have pica   \n",
       "701782  Where can you go to get help for someone menta...   \n",
       "701783                              I am rooster illusion   \n",
       "701786                                 crazy motherfucker   \n",
       "\n",
       "                                                 selftext  over_18  \\\n",
       "0       Does anyone else think the most important part...    False   \n",
       "1       Hello fellow friends 😄\\n\\nI'm on the BPD spect...    False   \n",
       "2       My [F20] bf [M20] told me today (after I said ...    False   \n",
       "3       Okay, I’m about to open up about many things I...    False   \n",
       "5       Without going into detail, this diagnosis expl...    False   \n",
       "...                                                   ...      ...   \n",
       "701779  I can't afford a real session and it's 11 PM. ...    False   \n",
       "701781  Hello. \\n         I'm taking steps to get rid ...    False   \n",
       "701782  Someone (a war veteran) I know is mentally ill...    False   \n",
       "701783                                                AMA    False   \n",
       "701786  so i have a lot of random impluses. crazy shit...    False   \n",
       "\n",
       "            subreddit  \n",
       "0                 BPD  \n",
       "1                 BPD  \n",
       "2                 BPD  \n",
       "3                 BPD  \n",
       "5                 BPD  \n",
       "...               ...  \n",
       "701779  mentalillness  \n",
       "701781  mentalillness  \n",
       "701782  mentalillness  \n",
       "701783  mentalillness  \n",
       "701786  mentalillness  \n",
       "\n",
       "[581217 rows x 4 columns]"
      ]
     },
     "execution_count": 7,
     "metadata": {},
     "output_type": "execute_result"
    }
   ],
   "source": [
    "df"
   ]
  },
  {
   "cell_type": "code",
   "execution_count": 8,
   "id": "0a5b20e7",
   "metadata": {},
   "outputs": [
    {
     "data": {
      "text/plain": [
       "array(['BPD', 'bipolar', 'depression', 'Anxiety', 'schizophrenia',\n",
       "       'mentalillness'], dtype=object)"
      ]
     },
     "execution_count": 8,
     "metadata": {},
     "output_type": "execute_result"
    }
   ],
   "source": [
    "df.subreddit.unique()"
   ]
  },
  {
   "cell_type": "code",
   "execution_count": 9,
   "id": "10f5a37e",
   "metadata": {},
   "outputs": [],
   "source": [
    "stopWords = set(stopwords.words(\"english\"))\n",
    "lemmatizer = WordNetLemmatizer()"
   ]
  },
  {
   "cell_type": "code",
   "execution_count": null,
   "id": "bfe415ea",
   "metadata": {},
   "outputs": [],
   "source": [
    "# Tokenization, Removing stop words and lemmatization all under following function."
   ]
  },
  {
   "cell_type": "code",
   "execution_count": 10,
   "id": "58c7f78b",
   "metadata": {},
   "outputs": [],
   "source": [
    "def nlpTextProcessor(sentence):\n",
    "    tokenizedSent = word_tokenize(sentence)\n",
    "    removedStopwords = [word for word in tokenizedSent if word not in stopWords]\n",
    "    finalOutput = []\n",
    "    tempOutput = []\n",
    "    for word in removedStopwords:\n",
    "        if word not in set(\"``{['?/]}().,:-\") and word not in [\"''\"]:\n",
    "            tempOutput.append(lemmatizer.lemmatize(word))\n",
    "    finalOutput = \" \".join(tempOutput)\n",
    "    return finalOutput"
   ]
  },
  {
   "cell_type": "code",
   "execution_count": 52,
   "id": "272f52e0",
   "metadata": {},
   "outputs": [
    {
     "data": {
      "text/plain": [
       "Text(0.5, 1.0, 'Value counts plot')"
      ]
     },
     "execution_count": 52,
     "metadata": {},
     "output_type": "execute_result"
    },
    {
     "data": {
      "image/png": "[encoded data removed]",
      "text/plain": [
       "<Figure size 640x480 with 1 Axes>"
      ]
     },
     "metadata": {},
     "output_type": "display_data"
    }
   ],
   "source": [
    "df.subreddit.value_counts().plot(kind=\"bar\")\n",
    "plt.title(\"Value counts plot\")"
   ]
  },
  {
   "cell_type": "code",
   "execution_count": 12,
   "id": "42b93a06",
   "metadata": {
    "scrolled": true
   },
   "outputs": [
    {
     "data": {
      "text/plain": [
       "BPD              212826\n",
       "Anxiety          161629\n",
       "depression       121202\n",
       "mentalillness     38161\n",
       "bipolar           35672\n",
       "schizophrenia     11727\n",
       "Name: subreddit, dtype: int64"
      ]
     },
     "execution_count": 12,
     "metadata": {},
     "output_type": "execute_result"
    }
   ],
   "source": [
    "df.subreddit.value_counts()"
   ]
  },
  {
   "cell_type": "code",
   "execution_count": null,
   "id": "720ca137",
   "metadata": {},
   "outputs": [],
   "source": [
    "# Grabbing the least occurring value to balance out the classes in the data set for better pattern recognition"
   ]
  },
  {
   "cell_type": "code",
   "execution_count": 13,
   "id": "16f09494",
   "metadata": {},
   "outputs": [
    {
     "data": {
      "text/plain": [
       "586"
      ]
     },
     "execution_count": 13,
     "metadata": {},
     "output_type": "execute_result"
    }
   ],
   "source": [
    "int((len(df[df[\"subreddit\"] == \"schizophrenia\"]) / 100 ) * 5)"
   ]
  },
  {
   "cell_type": "code",
   "execution_count": 14,
   "id": "3cbdf7a2",
   "metadata": {},
   "outputs": [],
   "source": [
    "balancedDf = df[df[\"subreddit\"] == \"schizophrenia\"].sample(586)"
   ]
  },
  {
   "cell_type": "code",
   "execution_count": 15,
   "id": "c8ab3fa2",
   "metadata": {},
   "outputs": [],
   "source": [
    "for label in [\"BPD\", \"Anxiety\", \"depression\", \"mentalillness\", \"bipolar\"]:\n",
    "    currDf = df[df[\"subreddit\"] == f\"{label}\"]\n",
    "    currDf = currDf.sample(int((len(currDf) / 100 ) * 5))\n",
    "    balancedDf = pd.concat([balancedDf, currDf], ignore_index=True, axis=0)\n"
   ]
  },
  {
   "cell_type": "code",
   "execution_count": 16,
   "id": "16ef0ff3",
   "metadata": {},
   "outputs": [],
   "source": [
    "balancedDf = balancedDf.sample(frac=1).reset_index(drop=True)"
   ]
  },
  {
   "cell_type": "code",
   "execution_count": 17,
   "id": "d05a1390",
   "metadata": {},
   "outputs": [
    {
     "data": {
      "text/html": [
       "<div>\n",
       "<style scoped>\n",
       "    .dataframe tbody tr th:only-of-type {\n",
       "        vertical-align: middle;\n",
       "    }\n",
       "\n",
       "    .dataframe tbody tr th {\n",
       "        vertical-align: top;\n",
       "    }\n",
       "\n",
       "    .dataframe thead th {\n",
       "        text-align: right;\n",
       "    }\n",
       "</style>\n",
       "<table border=\"1\" class=\"dataframe\">\n",
       "  <thead>\n",
       "    <tr style=\"text-align: right;\">\n",
       "      <th></th>\n",
       "      <th>title</th>\n",
       "      <th>selftext</th>\n",
       "      <th>over_18</th>\n",
       "      <th>subreddit</th>\n",
       "    </tr>\n",
       "  </thead>\n",
       "  <tbody>\n",
       "    <tr>\n",
       "      <th>0</th>\n",
       "      <td>Psychologist moving me to another team</td>\n",
       "      <td>I have bad anxiety, agoraphobia and depression...</td>\n",
       "      <td>False</td>\n",
       "      <td>Anxiety</td>\n",
       "    </tr>\n",
       "    <tr>\n",
       "      <th>1</th>\n",
       "      <td>I cheated.</td>\n",
       "      <td>I have a relationship with a person that are a...</td>\n",
       "      <td>False</td>\n",
       "      <td>BPD</td>\n",
       "    </tr>\n",
       "    <tr>\n",
       "      <th>2</th>\n",
       "      <td>Has your anxiety caused you to do something yo...</td>\n",
       "      <td>Like, has it made you cheat? Or do something y...</td>\n",
       "      <td>False</td>\n",
       "      <td>Anxiety</td>\n",
       "    </tr>\n",
       "    <tr>\n",
       "      <th>3</th>\n",
       "      <td>I’m tired of how quickly my emotions cycle</td>\n",
       "      <td>I worked 6 hours of overtime yesterday. I did ...</td>\n",
       "      <td>False</td>\n",
       "      <td>BPD</td>\n",
       "    </tr>\n",
       "    <tr>\n",
       "      <th>4</th>\n",
       "      <td>I was finally honest and nothing changed</td>\n",
       "      <td>I (17f) have been going through what I cons...</td>\n",
       "      <td>False</td>\n",
       "      <td>depression</td>\n",
       "    </tr>\n",
       "    <tr>\n",
       "      <th>...</th>\n",
       "      <td>...</td>\n",
       "      <td>...</td>\n",
       "      <td>...</td>\n",
       "      <td>...</td>\n",
       "    </tr>\n",
       "    <tr>\n",
       "      <th>29054</th>\n",
       "      <td>Should I (32F) Choose a Male or Female Doctor ...</td>\n",
       "      <td>Trigger Warning: certain medications described...</td>\n",
       "      <td>False</td>\n",
       "      <td>Anxiety</td>\n",
       "    </tr>\n",
       "    <tr>\n",
       "      <th>29055</th>\n",
       "      <td>i want a purpose</td>\n",
       "      <td>Theres never been a point in my life where I’v...</td>\n",
       "      <td>False</td>\n",
       "      <td>depression</td>\n",
       "    </tr>\n",
       "    <tr>\n",
       "      <th>29056</th>\n",
       "      <td>Social Media</td>\n",
       "      <td>What does your social media look like when man...</td>\n",
       "      <td>False</td>\n",
       "      <td>bipolar</td>\n",
       "    </tr>\n",
       "    <tr>\n",
       "      <th>29057</th>\n",
       "      <td>Weird eye movement before/during panic.</td>\n",
       "      <td>I’ve been having this symptom of anxiety for y...</td>\n",
       "      <td>False</td>\n",
       "      <td>Anxiety</td>\n",
       "    </tr>\n",
       "    <tr>\n",
       "      <th>29058</th>\n",
       "      <td>I don’t want to exist anymore.</td>\n",
       "      <td>Why the heck was I even born into this stupid ...</td>\n",
       "      <td>True</td>\n",
       "      <td>bipolar</td>\n",
       "    </tr>\n",
       "  </tbody>\n",
       "</table>\n",
       "<p>29059 rows × 4 columns</p>\n",
       "</div>"
      ],
      "text/plain": [
       "                                                   title  \\\n",
       "0                 Psychologist moving me to another team   \n",
       "1                                             I cheated.   \n",
       "2      Has your anxiety caused you to do something yo...   \n",
       "3             I’m tired of how quickly my emotions cycle   \n",
       "4               I was finally honest and nothing changed   \n",
       "...                                                  ...   \n",
       "29054  Should I (32F) Choose a Male or Female Doctor ...   \n",
       "29055                                   i want a purpose   \n",
       "29056                                       Social Media   \n",
       "29057            Weird eye movement before/during panic.   \n",
       "29058                     I don’t want to exist anymore.   \n",
       "\n",
       "                                                selftext  over_18   subreddit  \n",
       "0      I have bad anxiety, agoraphobia and depression...    False     Anxiety  \n",
       "1      I have a relationship with a person that are a...    False         BPD  \n",
       "2      Like, has it made you cheat? Or do something y...    False     Anxiety  \n",
       "3      I worked 6 hours of overtime yesterday. I did ...    False         BPD  \n",
       "4         I (17f) have been going through what I cons...    False  depression  \n",
       "...                                                  ...      ...         ...  \n",
       "29054  Trigger Warning: certain medications described...    False     Anxiety  \n",
       "29055  Theres never been a point in my life where I’v...    False  depression  \n",
       "29056  What does your social media look like when man...    False     bipolar  \n",
       "29057  I’ve been having this symptom of anxiety for y...    False     Anxiety  \n",
       "29058  Why the heck was I even born into this stupid ...     True     bipolar  \n",
       "\n",
       "[29059 rows x 4 columns]"
      ]
     },
     "execution_count": 17,
     "metadata": {},
     "output_type": "execute_result"
    }
   ],
   "source": [
    "balancedDf # Balanced classes data frame "
   ]
  },
  {
   "cell_type": "code",
   "execution_count": 18,
   "id": "93774395",
   "metadata": {},
   "outputs": [],
   "source": [
    "balancedDf[\"selftext\"] = balancedDf[\"selftext\"].apply(nlpTextProcessor)"
   ]
  },
  {
   "cell_type": "code",
   "execution_count": 19,
   "id": "121c1834",
   "metadata": {},
   "outputs": [],
   "source": [
    "balancedDf.columns = [\"title\", \"text\", \"adult\", \"label\"]"
   ]
  },
  {
   "cell_type": "code",
   "execution_count": 20,
   "id": "23d9e90f",
   "metadata": {},
   "outputs": [
    {
     "data": {
      "text/html": [
       "<div>\n",
       "<style scoped>\n",
       "    .dataframe tbody tr th:only-of-type {\n",
       "        vertical-align: middle;\n",
       "    }\n",
       "\n",
       "    .dataframe tbody tr th {\n",
       "        vertical-align: top;\n",
       "    }\n",
       "\n",
       "    .dataframe thead th {\n",
       "        text-align: right;\n",
       "    }\n",
       "</style>\n",
       "<table border=\"1\" class=\"dataframe\">\n",
       "  <thead>\n",
       "    <tr style=\"text-align: right;\">\n",
       "      <th></th>\n",
       "      <th>title</th>\n",
       "      <th>text</th>\n",
       "      <th>adult</th>\n",
       "      <th>label</th>\n",
       "    </tr>\n",
       "  </thead>\n",
       "  <tbody>\n",
       "    <tr>\n",
       "      <th>0</th>\n",
       "      <td>Psychologist moving me to another team</td>\n",
       "      <td>I bad anxiety agoraphobia depression psycholog...</td>\n",
       "      <td>False</td>\n",
       "      <td>Anxiety</td>\n",
       "    </tr>\n",
       "    <tr>\n",
       "      <th>1</th>\n",
       "      <td>I cheated.</td>\n",
       "      <td>I relationship person afraid intimicy sometime...</td>\n",
       "      <td>False</td>\n",
       "      <td>BPD</td>\n",
       "    </tr>\n",
       "    <tr>\n",
       "      <th>2</th>\n",
       "      <td>Has your anxiety caused you to do something yo...</td>\n",
       "      <td>Like made cheat Or something normally would n'...</td>\n",
       "      <td>False</td>\n",
       "      <td>Anxiety</td>\n",
       "    </tr>\n",
       "    <tr>\n",
       "      <th>3</th>\n",
       "      <td>I’m tired of how quickly my emotions cycle</td>\n",
       "      <td>I worked 6 hour overtime yesterday I school wo...</td>\n",
       "      <td>False</td>\n",
       "      <td>BPD</td>\n",
       "    </tr>\n",
       "    <tr>\n",
       "      <th>4</th>\n",
       "      <td>I was finally honest and nothing changed</td>\n",
       "      <td>I 17f going I consider pretty heavy depression...</td>\n",
       "      <td>False</td>\n",
       "      <td>depression</td>\n",
       "    </tr>\n",
       "    <tr>\n",
       "      <th>...</th>\n",
       "      <td>...</td>\n",
       "      <td>...</td>\n",
       "      <td>...</td>\n",
       "      <td>...</td>\n",
       "    </tr>\n",
       "    <tr>\n",
       "      <th>29054</th>\n",
       "      <td>Should I (32F) Choose a Male or Female Doctor ...</td>\n",
       "      <td>Trigger Warning certain medication described T...</td>\n",
       "      <td>False</td>\n",
       "      <td>Anxiety</td>\n",
       "    </tr>\n",
       "    <tr>\n",
       "      <th>29055</th>\n",
       "      <td>i want a purpose</td>\n",
       "      <td>Theres never point life I ’ ever encouraged hy...</td>\n",
       "      <td>False</td>\n",
       "      <td>depression</td>\n",
       "    </tr>\n",
       "    <tr>\n",
       "      <th>29056</th>\n",
       "      <td>Social Media</td>\n",
       "      <td>What social medium look like manic Do tell eve...</td>\n",
       "      <td>False</td>\n",
       "      <td>bipolar</td>\n",
       "    </tr>\n",
       "    <tr>\n",
       "      <th>29057</th>\n",
       "      <td>Weird eye movement before/during panic.</td>\n",
       "      <td>I ’ symptom anxiety year I ’ wondering common ...</td>\n",
       "      <td>False</td>\n",
       "      <td>Anxiety</td>\n",
       "    </tr>\n",
       "    <tr>\n",
       "      <th>29058</th>\n",
       "      <td>I don’t want to exist anymore.</td>\n",
       "      <td>Why heck I even born stupid world I recovered ...</td>\n",
       "      <td>True</td>\n",
       "      <td>bipolar</td>\n",
       "    </tr>\n",
       "  </tbody>\n",
       "</table>\n",
       "<p>29059 rows × 4 columns</p>\n",
       "</div>"
      ],
      "text/plain": [
       "                                                   title  \\\n",
       "0                 Psychologist moving me to another team   \n",
       "1                                             I cheated.   \n",
       "2      Has your anxiety caused you to do something yo...   \n",
       "3             I’m tired of how quickly my emotions cycle   \n",
       "4               I was finally honest and nothing changed   \n",
       "...                                                  ...   \n",
       "29054  Should I (32F) Choose a Male or Female Doctor ...   \n",
       "29055                                   i want a purpose   \n",
       "29056                                       Social Media   \n",
       "29057            Weird eye movement before/during panic.   \n",
       "29058                     I don’t want to exist anymore.   \n",
       "\n",
       "                                                    text  adult       label  \n",
       "0      I bad anxiety agoraphobia depression psycholog...  False     Anxiety  \n",
       "1      I relationship person afraid intimicy sometime...  False         BPD  \n",
       "2      Like made cheat Or something normally would n'...  False     Anxiety  \n",
       "3      I worked 6 hour overtime yesterday I school wo...  False         BPD  \n",
       "4      I 17f going I consider pretty heavy depression...  False  depression  \n",
       "...                                                  ...    ...         ...  \n",
       "29054  Trigger Warning certain medication described T...  False     Anxiety  \n",
       "29055  Theres never point life I ’ ever encouraged hy...  False  depression  \n",
       "29056  What social medium look like manic Do tell eve...  False     bipolar  \n",
       "29057  I ’ symptom anxiety year I ’ wondering common ...  False     Anxiety  \n",
       "29058  Why heck I even born stupid world I recovered ...   True     bipolar  \n",
       "\n",
       "[29059 rows x 4 columns]"
      ]
     },
     "execution_count": 20,
     "metadata": {},
     "output_type": "execute_result"
    }
   ],
   "source": [
    "balancedDf"
   ]
  },
  {
   "cell_type": "code",
   "execution_count": null,
   "id": "60d71766",
   "metadata": {},
   "outputs": [],
   "source": []
  },
  {
   "cell_type": "code",
   "execution_count": 21,
   "id": "94f1f960",
   "metadata": {},
   "outputs": [
    {
     "data": {
      "text/plain": [
       "Text(0.5, 1.0, 'Individuals Age > 18')"
      ]
     },
     "execution_count": 21,
     "metadata": {},
     "output_type": "execute_result"
    },
    {
     "data": {
      "image/png": "[encoded data removed]",
      "text/plain": [
       "<Figure size 640x480 with 1 Axes>"
      ]
     },
     "metadata": {},
     "output_type": "display_data"
    }
   ],
   "source": [
    "balancedDf[\"adult\"].value_counts().plot(kind=\"pie\")\n",
    "plt.title(\"Individuals Age > 18\")"
   ]
  },
  {
   "cell_type": "code",
   "execution_count": 22,
   "id": "82a4e8ff",
   "metadata": {},
   "outputs": [
    {
     "data": {
      "text/plain": [
       "Text(0.5, 1.0, 'Common Issues in Youngsters')"
      ]
     },
     "execution_count": 22,
     "metadata": {},
     "output_type": "execute_result"
    },
    {
     "data": {
      "image/png": "[encoded data removed]",
      "text/plain": [
       "<Figure size 640x480 with 1 Axes>"
      ]
     },
     "metadata": {},
     "output_type": "display_data"
    }
   ],
   "source": [
    "balancedDf[balancedDf[\"adult\"] == False].label.value_counts().plot(kind=\"line\")\n",
    "plt.title(\"Common Issues in Youngsters\")"
   ]
  },
  {
   "cell_type": "code",
   "execution_count": 23,
   "id": "bf15482f",
   "metadata": {},
   "outputs": [
    {
     "data": {
      "text/plain": [
       "Text(0.5, 1.0, 'Common Issues in Older People')"
      ]
     },
     "execution_count": 23,
     "metadata": {},
     "output_type": "execute_result"
    },
    {
     "data": {
      "image/png": "[encoded data removed]",
      "text/plain": [
       "<Figure size 640x480 with 1 Axes>"
      ]
     },
     "metadata": {},
     "output_type": "display_data"
    }
   ],
   "source": [
    "balancedDf[balancedDf[\"adult\"] == True].label.value_counts().sort_values().plot(kind=\"line\")\n",
    "plt.title(\"Common Issues in Older People\")"
   ]
  },
  {
   "cell_type": "code",
   "execution_count": 24,
   "id": "48ed283a",
   "metadata": {},
   "outputs": [],
   "source": [
    "balancedDf[\"title\"] = balancedDf[\"title\"].apply(lambda x: str(x).lower())\n",
    "balancedDf[\"text\"] = balancedDf[\"text\"].apply(lambda x: str(x).lower())"
   ]
  },
  {
   "cell_type": "code",
   "execution_count": 25,
   "id": "00b2121c",
   "metadata": {},
   "outputs": [],
   "source": [
    "X = balancedDf.drop(\"label\", axis=1)\n",
    "y = balancedDf[\"label\"]"
   ]
  },
  {
   "cell_type": "code",
   "execution_count": 26,
   "id": "64ef786c",
   "metadata": {},
   "outputs": [],
   "source": [
    "X_train, X_test, y_train, y_test = train_test_split(X, y, test_size=0.2)"
   ]
  },
  {
   "cell_type": "code",
   "execution_count": 27,
   "id": "e9b407a8",
   "metadata": {},
   "outputs": [],
   "source": [
    "countVectorizer = CountVectorizer(ngram_range=(1,1))\n",
    "trainData = countVectorizer.fit_transform(X_train[\"text\"])"
   ]
  },
  {
   "cell_type": "code",
   "execution_count": 28,
   "id": "91e171bd",
   "metadata": {},
   "outputs": [
    {
     "name": "stdout",
     "output_type": "stream",
     "text": [
      "['00' '000' '0000' ... '𝘆𝗼𝘂𝗿' '𝘬𝘯𝘰𝘸' '𝙡𝙞𝙩𝙚𝙧𝙖𝙡𝙡𝙮']\n"
     ]
    }
   ],
   "source": [
    "print(countVectorizer.get_feature_names_out())"
   ]
  },
  {
   "cell_type": "code",
   "execution_count": null,
   "id": "7af8e510",
   "metadata": {},
   "outputs": [],
   "source": [
    "# Using multi nomial naive bayes model for nlp."
   ]
  },
  {
   "cell_type": "code",
   "execution_count": 29,
   "id": "862e3852",
   "metadata": {},
   "outputs": [
    {
     "data": {
      "text/html": [
       "<style>#sk-container-id-1 {color: black;background-color: white;}#sk-container-id-1 pre{padding: 0;}#sk-container-id-1 div.sk-toggleable {background-color: white;}#sk-container-id-1 label.sk-toggleable__label {cursor: pointer;display: block;width: 100%;margin-bottom: 0;padding: 0.3em;box-sizing: border-box;text-align: center;}#sk-container-id-1 label.sk-toggleable__label-arrow:before {content: \"▸\";float: left;margin-right: 0.25em;color: #696969;}#sk-container-id-1 label.sk-toggleable__label-arrow:hover:before {color: black;}#sk-container-id-1 div.sk-estimator:hover label.sk-toggleable__label-arrow:before {color: black;}#sk-container-id-1 div.sk-toggleable__content {max-height: 0;max-width: 0;overflow: hidden;text-align: left;background-color: #f0f8ff;}#sk-container-id-1 div.sk-toggleable__content pre {margin: 0.2em;color: black;border-radius: 0.25em;background-color: #f0f8ff;}#sk-container-id-1 input.sk-toggleable__control:checked~div.sk-toggleable__content {max-height: 200px;max-width: 100%;overflow: auto;}#sk-container-id-1 input.sk-toggleable__control:checked~label.sk-toggleable__label-arrow:before {content: \"▾\";}#sk-container-id-1 div.sk-estimator input.sk-toggleable__control:checked~label.sk-toggleable__label {background-color: #d4ebff;}#sk-container-id-1 div.sk-label input.sk-toggleable__control:checked~label.sk-toggleable__label {background-color: #d4ebff;}#sk-container-id-1 input.sk-hidden--visually {border: 0;clip: rect(1px 1px 1px 1px);clip: rect(1px, 1px, 1px, 1px);height: 1px;margin: -1px;overflow: hidden;padding: 0;position: absolute;width: 1px;}#sk-container-id-1 div.sk-estimator {font-family: monospace;background-color: #f0f8ff;border: 1px dotted black;border-radius: 0.25em;box-sizing: border-box;margin-bottom: 0.5em;}#sk-container-id-1 div.sk-estimator:hover {background-color: #d4ebff;}#sk-container-id-1 div.sk-parallel-item::after {content: \"\";width: 100%;border-bottom: 1px solid gray;flex-grow: 1;}#sk-container-id-1 div.sk-label:hover label.sk-toggleable__label {background-color: #d4ebff;}#sk-container-id-1 div.sk-serial::before {content: \"\";position: absolute;border-left: 1px solid gray;box-sizing: border-box;top: 0;bottom: 0;left: 50%;z-index: 0;}#sk-container-id-1 div.sk-serial {display: flex;flex-direction: column;align-items: center;background-color: white;padding-right: 0.2em;padding-left: 0.2em;position: relative;}#sk-container-id-1 div.sk-item {position: relative;z-index: 1;}#sk-container-id-1 div.sk-parallel {display: flex;align-items: stretch;justify-content: center;background-color: white;position: relative;}#sk-container-id-1 div.sk-item::before, #sk-container-id-1 div.sk-parallel-item::before {content: \"\";position: absolute;border-left: 1px solid gray;box-sizing: border-box;top: 0;bottom: 0;left: 50%;z-index: -1;}#sk-container-id-1 div.sk-parallel-item {display: flex;flex-direction: column;z-index: 1;position: relative;background-color: white;}#sk-container-id-1 div.sk-parallel-item:first-child::after {align-self: flex-end;width: 50%;}#sk-container-id-1 div.sk-parallel-item:last-child::after {align-self: flex-start;width: 50%;}#sk-container-id-1 div.sk-parallel-item:only-child::after {width: 0;}#sk-container-id-1 div.sk-dashed-wrapped {border: 1px dashed gray;margin: 0 0.4em 0.5em 0.4em;box-sizing: border-box;padding-bottom: 0.4em;background-color: white;}#sk-container-id-1 div.sk-label label {font-family: monospace;font-weight: bold;display: inline-block;line-height: 1.2em;}#sk-container-id-1 div.sk-label-container {text-align: center;}#sk-container-id-1 div.sk-container {/* jupyter's `normalize.less` sets `[hidden] { display: none; }` but bootstrap.min.css set `[hidden] { display: none !important; }` so we also need the `!important` here to be able to override the default hidden behavior on the sphinx rendered scikit-learn.org. See: https://github.com/scikit-learn/scikit-learn/issues/21755 */display: inline-block !important;position: relative;}#sk-container-id-1 div.sk-text-repr-fallback {display: none;}</style><div id=\"sk-container-id-1\" class=\"sk-top-container\"><div class=\"sk-text-repr-fallback\"><pre>MultinomialNB()</pre><b>In a Jupyter environment, please rerun this cell to show the HTML representation or trust the notebook. <br />On GitHub, the HTML representation is unable to render, please try loading this page with nbviewer.org.</b></div><div class=\"sk-container\" hidden><div class=\"sk-item\"><div class=\"sk-estimator sk-toggleable\"><input class=\"sk-toggleable__control sk-hidden--visually\" id=\"sk-estimator-id-1\" type=\"checkbox\" checked><label for=\"sk-estimator-id-1\" class=\"sk-toggleable__label sk-toggleable__label-arrow\">MultinomialNB</label><div class=\"sk-toggleable__content\"><pre>MultinomialNB()</pre></div></div></div></div></div>"
      ],
      "text/plain": [
       "MultinomialNB()"
      ]
     },
     "execution_count": 29,
     "metadata": {},
     "output_type": "execute_result"
    }
   ],
   "source": [
    "model = MultinomialNB()\n",
    "model.fit(trainData, y_train)"
   ]
  },
  {
   "cell_type": "code",
   "execution_count": 30,
   "id": "af0a118e",
   "metadata": {},
   "outputs": [],
   "source": [
    "testData = countVectorizer.transform(X_test[\"text\"])"
   ]
  },
  {
   "cell_type": "code",
   "execution_count": 31,
   "id": "01aafe11",
   "metadata": {},
   "outputs": [],
   "source": [
    "predData = model.predict(testData)"
   ]
  },
  {
   "cell_type": "code",
   "execution_count": 32,
   "id": "9f4ad4c9",
   "metadata": {},
   "outputs": [
    {
     "data": {
      "text/plain": [
       "5812"
      ]
     },
     "execution_count": 32,
     "metadata": {},
     "output_type": "execute_result"
    }
   ],
   "source": [
    "len(predData)"
   ]
  },
  {
   "cell_type": "code",
   "execution_count": 33,
   "id": "48e5e896",
   "metadata": {},
   "outputs": [],
   "source": [
    "from sklearn.metrics import classification_report"
   ]
  },
  {
   "cell_type": "code",
   "execution_count": 34,
   "id": "01ca9dc1",
   "metadata": {
    "scrolled": true
   },
   "outputs": [
    {
     "name": "stdout",
     "output_type": "stream",
     "text": [
      "               precision    recall  f1-score   support\n",
      "\n",
      "      Anxiety       0.73      0.76      0.75      1664\n",
      "          BPD       0.67      0.82      0.74      2043\n",
      "      bipolar       0.64      0.33      0.43       363\n",
      "   depression       0.64      0.66      0.65      1237\n",
      "mentalillness       0.30      0.08      0.13       390\n",
      "schizophrenia       0.45      0.08      0.13       115\n",
      "\n",
      "     accuracy                           0.67      5812\n",
      "    macro avg       0.57      0.45      0.47      5812\n",
      " weighted avg       0.65      0.67      0.65      5812\n",
      "\n"
     ]
    }
   ],
   "source": [
    "print(classification_report(y_test, predData))"
   ]
  },
  {
   "cell_type": "code",
   "execution_count": null,
   "id": "6327dd93",
   "metadata": {},
   "outputs": [],
   "source": [
    "# Using grid search cv to hyper tune the parameter."
   ]
  },
  {
   "cell_type": "code",
   "execution_count": 35,
   "id": "e9904284",
   "metadata": {},
   "outputs": [],
   "source": [
    "from sklearn.model_selection import GridSearchCV"
   ]
  },
  {
   "cell_type": "code",
   "execution_count": 36,
   "id": "5aba2a08",
   "metadata": {},
   "outputs": [],
   "source": [
    "param = {\"alpha\": [0.0001, 0.01, 0.1, 1, 10, 20, 100], \"fit_prior\": [True, False]}"
   ]
  },
  {
   "cell_type": "code",
   "execution_count": 37,
   "id": "d2485b20",
   "metadata": {},
   "outputs": [],
   "source": [
    "grid = GridSearchCV(MultinomialNB(), param_grid=param, verbose=0)"
   ]
  },
  {
   "cell_type": "code",
   "execution_count": 38,
   "id": "dc54b45d",
   "metadata": {},
   "outputs": [
    {
     "data": {
      "text/html": [
       "<style>#sk-container-id-2 {color: black;background-color: white;}#sk-container-id-2 pre{padding: 0;}#sk-container-id-2 div.sk-toggleable {background-color: white;}#sk-container-id-2 label.sk-toggleable__label {cursor: pointer;display: block;width: 100%;margin-bottom: 0;padding: 0.3em;box-sizing: border-box;text-align: center;}#sk-container-id-2 label.sk-toggleable__label-arrow:before {content: \"▸\";float: left;margin-right: 0.25em;color: #696969;}#sk-container-id-2 label.sk-toggleable__label-arrow:hover:before {color: black;}#sk-container-id-2 div.sk-estimator:hover label.sk-toggleable__label-arrow:before {color: black;}#sk-container-id-2 div.sk-toggleable__content {max-height: 0;max-width: 0;overflow: hidden;text-align: left;background-color: #f0f8ff;}#sk-container-id-2 div.sk-toggleable__content pre {margin: 0.2em;color: black;border-radius: 0.25em;background-color: #f0f8ff;}#sk-container-id-2 input.sk-toggleable__control:checked~div.sk-toggleable__content {max-height: 200px;max-width: 100%;overflow: auto;}#sk-container-id-2 input.sk-toggleable__control:checked~label.sk-toggleable__label-arrow:before {content: \"▾\";}#sk-container-id-2 div.sk-estimator input.sk-toggleable__control:checked~label.sk-toggleable__label {background-color: #d4ebff;}#sk-container-id-2 div.sk-label input.sk-toggleable__control:checked~label.sk-toggleable__label {background-color: #d4ebff;}#sk-container-id-2 input.sk-hidden--visually {border: 0;clip: rect(1px 1px 1px 1px);clip: rect(1px, 1px, 1px, 1px);height: 1px;margin: -1px;overflow: hidden;padding: 0;position: absolute;width: 1px;}#sk-container-id-2 div.sk-estimator {font-family: monospace;background-color: #f0f8ff;border: 1px dotted black;border-radius: 0.25em;box-sizing: border-box;margin-bottom: 0.5em;}#sk-container-id-2 div.sk-estimator:hover {background-color: #d4ebff;}#sk-container-id-2 div.sk-parallel-item::after {content: \"\";width: 100%;border-bottom: 1px solid gray;flex-grow: 1;}#sk-container-id-2 div.sk-label:hover label.sk-toggleable__label {background-color: #d4ebff;}#sk-container-id-2 div.sk-serial::before {content: \"\";position: absolute;border-left: 1px solid gray;box-sizing: border-box;top: 0;bottom: 0;left: 50%;z-index: 0;}#sk-container-id-2 div.sk-serial {display: flex;flex-direction: column;align-items: center;background-color: white;padding-right: 0.2em;padding-left: 0.2em;position: relative;}#sk-container-id-2 div.sk-item {position: relative;z-index: 1;}#sk-container-id-2 div.sk-parallel {display: flex;align-items: stretch;justify-content: center;background-color: white;position: relative;}#sk-container-id-2 div.sk-item::before, #sk-container-id-2 div.sk-parallel-item::before {content: \"\";position: absolute;border-left: 1px solid gray;box-sizing: border-box;top: 0;bottom: 0;left: 50%;z-index: -1;}#sk-container-id-2 div.sk-parallel-item {display: flex;flex-direction: column;z-index: 1;position: relative;background-color: white;}#sk-container-id-2 div.sk-parallel-item:first-child::after {align-self: flex-end;width: 50%;}#sk-container-id-2 div.sk-parallel-item:last-child::after {align-self: flex-start;width: 50%;}#sk-container-id-2 div.sk-parallel-item:only-child::after {width: 0;}#sk-container-id-2 div.sk-dashed-wrapped {border: 1px dashed gray;margin: 0 0.4em 0.5em 0.4em;box-sizing: border-box;padding-bottom: 0.4em;background-color: white;}#sk-container-id-2 div.sk-label label {font-family: monospace;font-weight: bold;display: inline-block;line-height: 1.2em;}#sk-container-id-2 div.sk-label-container {text-align: center;}#sk-container-id-2 div.sk-container {/* jupyter's `normalize.less` sets `[hidden] { display: none; }` but bootstrap.min.css set `[hidden] { display: none !important; }` so we also need the `!important` here to be able to override the default hidden behavior on the sphinx rendered scikit-learn.org. See: https://github.com/scikit-learn/scikit-learn/issues/21755 */display: inline-block !important;position: relative;}#sk-container-id-2 div.sk-text-repr-fallback {display: none;}</style><div id=\"sk-container-id-2\" class=\"sk-top-container\"><div class=\"sk-text-repr-fallback\"><pre>GridSearchCV(estimator=MultinomialNB(),\n",
       "             param_grid={&#x27;alpha&#x27;: [0.0001, 0.01, 0.1, 1, 10, 20, 100],\n",
       "                         &#x27;fit_prior&#x27;: [True, False]})</pre><b>In a Jupyter environment, please rerun this cell to show the HTML representation or trust the notebook. <br />On GitHub, the HTML representation is unable to render, please try loading this page with nbviewer.org.</b></div><div class=\"sk-container\" hidden><div class=\"sk-item sk-dashed-wrapped\"><div class=\"sk-label-container\"><div class=\"sk-label sk-toggleable\"><input class=\"sk-toggleable__control sk-hidden--visually\" id=\"sk-estimator-id-2\" type=\"checkbox\" ><label for=\"sk-estimator-id-2\" class=\"sk-toggleable__label sk-toggleable__label-arrow\">GridSearchCV</label><div class=\"sk-toggleable__content\"><pre>GridSearchCV(estimator=MultinomialNB(),\n",
       "             param_grid={&#x27;alpha&#x27;: [0.0001, 0.01, 0.1, 1, 10, 20, 100],\n",
       "                         &#x27;fit_prior&#x27;: [True, False]})</pre></div></div></div><div class=\"sk-parallel\"><div class=\"sk-parallel-item\"><div class=\"sk-item\"><div class=\"sk-label-container\"><div class=\"sk-label sk-toggleable\"><input class=\"sk-toggleable__control sk-hidden--visually\" id=\"sk-estimator-id-3\" type=\"checkbox\" ><label for=\"sk-estimator-id-3\" class=\"sk-toggleable__label sk-toggleable__label-arrow\">estimator: MultinomialNB</label><div class=\"sk-toggleable__content\"><pre>MultinomialNB()</pre></div></div></div><div class=\"sk-serial\"><div class=\"sk-item\"><div class=\"sk-estimator sk-toggleable\"><input class=\"sk-toggleable__control sk-hidden--visually\" id=\"sk-estimator-id-4\" type=\"checkbox\" ><label for=\"sk-estimator-id-4\" class=\"sk-toggleable__label sk-toggleable__label-arrow\">MultinomialNB</label><div class=\"sk-toggleable__content\"><pre>MultinomialNB()</pre></div></div></div></div></div></div></div></div></div></div>"
      ],
      "text/plain": [
       "GridSearchCV(estimator=MultinomialNB(),\n",
       "             param_grid={'alpha': [0.0001, 0.01, 0.1, 1, 10, 20, 100],\n",
       "                         'fit_prior': [True, False]})"
      ]
     },
     "execution_count": 38,
     "metadata": {},
     "output_type": "execute_result"
    }
   ],
   "source": [
    "grid.fit(trainData, y_train)"
   ]
  },
  {
   "cell_type": "code",
   "execution_count": 39,
   "id": "18e3fc5a",
   "metadata": {},
   "outputs": [
    {
     "data": {
      "text/html": [
       "<style>#sk-container-id-3 {color: black;background-color: white;}#sk-container-id-3 pre{padding: 0;}#sk-container-id-3 div.sk-toggleable {background-color: white;}#sk-container-id-3 label.sk-toggleable__label {cursor: pointer;display: block;width: 100%;margin-bottom: 0;padding: 0.3em;box-sizing: border-box;text-align: center;}#sk-container-id-3 label.sk-toggleable__label-arrow:before {content: \"▸\";float: left;margin-right: 0.25em;color: #696969;}#sk-container-id-3 label.sk-toggleable__label-arrow:hover:before {color: black;}#sk-container-id-3 div.sk-estimator:hover label.sk-toggleable__label-arrow:before {color: black;}#sk-container-id-3 div.sk-toggleable__content {max-height: 0;max-width: 0;overflow: hidden;text-align: left;background-color: #f0f8ff;}#sk-container-id-3 div.sk-toggleable__content pre {margin: 0.2em;color: black;border-radius: 0.25em;background-color: #f0f8ff;}#sk-container-id-3 input.sk-toggleable__control:checked~div.sk-toggleable__content {max-height: 200px;max-width: 100%;overflow: auto;}#sk-container-id-3 input.sk-toggleable__control:checked~label.sk-toggleable__label-arrow:before {content: \"▾\";}#sk-container-id-3 div.sk-estimator input.sk-toggleable__control:checked~label.sk-toggleable__label {background-color: #d4ebff;}#sk-container-id-3 div.sk-label input.sk-toggleable__control:checked~label.sk-toggleable__label {background-color: #d4ebff;}#sk-container-id-3 input.sk-hidden--visually {border: 0;clip: rect(1px 1px 1px 1px);clip: rect(1px, 1px, 1px, 1px);height: 1px;margin: -1px;overflow: hidden;padding: 0;position: absolute;width: 1px;}#sk-container-id-3 div.sk-estimator {font-family: monospace;background-color: #f0f8ff;border: 1px dotted black;border-radius: 0.25em;box-sizing: border-box;margin-bottom: 0.5em;}#sk-container-id-3 div.sk-estimator:hover {background-color: #d4ebff;}#sk-container-id-3 div.sk-parallel-item::after {content: \"\";width: 100%;border-bottom: 1px solid gray;flex-grow: 1;}#sk-container-id-3 div.sk-label:hover label.sk-toggleable__label {background-color: #d4ebff;}#sk-container-id-3 div.sk-serial::before {content: \"\";position: absolute;border-left: 1px solid gray;box-sizing: border-box;top: 0;bottom: 0;left: 50%;z-index: 0;}#sk-container-id-3 div.sk-serial {display: flex;flex-direction: column;align-items: center;background-color: white;padding-right: 0.2em;padding-left: 0.2em;position: relative;}#sk-container-id-3 div.sk-item {position: relative;z-index: 1;}#sk-container-id-3 div.sk-parallel {display: flex;align-items: stretch;justify-content: center;background-color: white;position: relative;}#sk-container-id-3 div.sk-item::before, #sk-container-id-3 div.sk-parallel-item::before {content: \"\";position: absolute;border-left: 1px solid gray;box-sizing: border-box;top: 0;bottom: 0;left: 50%;z-index: -1;}#sk-container-id-3 div.sk-parallel-item {display: flex;flex-direction: column;z-index: 1;position: relative;background-color: white;}#sk-container-id-3 div.sk-parallel-item:first-child::after {align-self: flex-end;width: 50%;}#sk-container-id-3 div.sk-parallel-item:last-child::after {align-self: flex-start;width: 50%;}#sk-container-id-3 div.sk-parallel-item:only-child::after {width: 0;}#sk-container-id-3 div.sk-dashed-wrapped {border: 1px dashed gray;margin: 0 0.4em 0.5em 0.4em;box-sizing: border-box;padding-bottom: 0.4em;background-color: white;}#sk-container-id-3 div.sk-label label {font-family: monospace;font-weight: bold;display: inline-block;line-height: 1.2em;}#sk-container-id-3 div.sk-label-container {text-align: center;}#sk-container-id-3 div.sk-container {/* jupyter's `normalize.less` sets `[hidden] { display: none; }` but bootstrap.min.css set `[hidden] { display: none !important; }` so we also need the `!important` here to be able to override the default hidden behavior on the sphinx rendered scikit-learn.org. See: https://github.com/scikit-learn/scikit-learn/issues/21755 */display: inline-block !important;position: relative;}#sk-container-id-3 div.sk-text-repr-fallback {display: none;}</style><div id=\"sk-container-id-3\" class=\"sk-top-container\"><div class=\"sk-text-repr-fallback\"><pre>MultinomialNB(alpha=1, fit_prior=False)</pre><b>In a Jupyter environment, please rerun this cell to show the HTML representation or trust the notebook. <br />On GitHub, the HTML representation is unable to render, please try loading this page with nbviewer.org.</b></div><div class=\"sk-container\" hidden><div class=\"sk-item\"><div class=\"sk-estimator sk-toggleable\"><input class=\"sk-toggleable__control sk-hidden--visually\" id=\"sk-estimator-id-5\" type=\"checkbox\" checked><label for=\"sk-estimator-id-5\" class=\"sk-toggleable__label sk-toggleable__label-arrow\">MultinomialNB</label><div class=\"sk-toggleable__content\"><pre>MultinomialNB(alpha=1, fit_prior=False)</pre></div></div></div></div></div>"
      ],
      "text/plain": [
       "MultinomialNB(alpha=1, fit_prior=False)"
      ]
     },
     "execution_count": 39,
     "metadata": {},
     "output_type": "execute_result"
    }
   ],
   "source": [
    "grid.best_estimator_"
   ]
  },
  {
   "cell_type": "code",
   "execution_count": 40,
   "id": "1f0b0795",
   "metadata": {},
   "outputs": [],
   "source": [
    "predGrid = grid.predict(testData)"
   ]
  },
  {
   "cell_type": "code",
   "execution_count": 41,
   "id": "2882e97a",
   "metadata": {
    "scrolled": true
   },
   "outputs": [
    {
     "name": "stdout",
     "output_type": "stream",
     "text": [
      "               precision    recall  f1-score   support\n",
      "\n",
      "      Anxiety       0.74      0.76      0.75      1664\n",
      "          BPD       0.70      0.79      0.74      2043\n",
      "      bipolar       0.58      0.39      0.47       363\n",
      "   depression       0.63      0.70      0.66      1237\n",
      "mentalillness       0.27      0.13      0.17       390\n",
      "schizophrenia       0.39      0.10      0.15       115\n",
      "\n",
      "     accuracy                           0.68      5812\n",
      "    macro avg       0.55      0.48      0.49      5812\n",
      " weighted avg       0.66      0.68      0.66      5812\n",
      "\n"
     ]
    }
   ],
   "source": [
    "print(classification_report(y_test, predGrid))"
   ]
  },
  {
   "cell_type": "code",
   "execution_count": null,
   "id": "49bc7775",
   "metadata": {},
   "outputs": [],
   "source": [
    "# Viewing actual and predicted values side by side."
   ]
  },
  {
   "cell_type": "code",
   "execution_count": 42,
   "id": "d3b9cfe0",
   "metadata": {
    "scrolled": false
   },
   "outputs": [
    {
     "data": {
      "text/html": [
       "<div>\n",
       "<style scoped>\n",
       "    .dataframe tbody tr th:only-of-type {\n",
       "        vertical-align: middle;\n",
       "    }\n",
       "\n",
       "    .dataframe tbody tr th {\n",
       "        vertical-align: top;\n",
       "    }\n",
       "\n",
       "    .dataframe thead th {\n",
       "        text-align: right;\n",
       "    }\n",
       "</style>\n",
       "<table border=\"1\" class=\"dataframe\">\n",
       "  <thead>\n",
       "    <tr style=\"text-align: right;\">\n",
       "      <th></th>\n",
       "      <th>0</th>\n",
       "      <th>1</th>\n",
       "    </tr>\n",
       "  </thead>\n",
       "  <tbody>\n",
       "    <tr>\n",
       "      <th>0</th>\n",
       "      <td>depression</td>\n",
       "      <td>depression</td>\n",
       "    </tr>\n",
       "    <tr>\n",
       "      <th>1</th>\n",
       "      <td>depression</td>\n",
       "      <td>depression</td>\n",
       "    </tr>\n",
       "    <tr>\n",
       "      <th>2</th>\n",
       "      <td>BPD</td>\n",
       "      <td>BPD</td>\n",
       "    </tr>\n",
       "    <tr>\n",
       "      <th>3</th>\n",
       "      <td>BPD</td>\n",
       "      <td>BPD</td>\n",
       "    </tr>\n",
       "    <tr>\n",
       "      <th>4</th>\n",
       "      <td>BPD</td>\n",
       "      <td>BPD</td>\n",
       "    </tr>\n",
       "    <tr>\n",
       "      <th>...</th>\n",
       "      <td>...</td>\n",
       "      <td>...</td>\n",
       "    </tr>\n",
       "    <tr>\n",
       "      <th>5807</th>\n",
       "      <td>mentalillness</td>\n",
       "      <td>BPD</td>\n",
       "    </tr>\n",
       "    <tr>\n",
       "      <th>5808</th>\n",
       "      <td>bipolar</td>\n",
       "      <td>BPD</td>\n",
       "    </tr>\n",
       "    <tr>\n",
       "      <th>5809</th>\n",
       "      <td>bipolar</td>\n",
       "      <td>bipolar</td>\n",
       "    </tr>\n",
       "    <tr>\n",
       "      <th>5810</th>\n",
       "      <td>BPD</td>\n",
       "      <td>BPD</td>\n",
       "    </tr>\n",
       "    <tr>\n",
       "      <th>5811</th>\n",
       "      <td>depression</td>\n",
       "      <td>depression</td>\n",
       "    </tr>\n",
       "  </tbody>\n",
       "</table>\n",
       "<p>5812 rows × 2 columns</p>\n",
       "</div>"
      ],
      "text/plain": [
       "                  0           1\n",
       "0        depression  depression\n",
       "1        depression  depression\n",
       "2               BPD         BPD\n",
       "3               BPD         BPD\n",
       "4               BPD         BPD\n",
       "...             ...         ...\n",
       "5807  mentalillness         BPD\n",
       "5808        bipolar         BPD\n",
       "5809        bipolar     bipolar\n",
       "5810            BPD         BPD\n",
       "5811     depression  depression\n",
       "\n",
       "[5812 rows x 2 columns]"
      ]
     },
     "execution_count": 42,
     "metadata": {},
     "output_type": "execute_result"
    }
   ],
   "source": [
    "pd.concat([pd.DataFrame(y_test).reset_index(drop=True), pd.DataFrame(predData).reindex()], axis=1, ignore_index=True)"
   ]
  },
  {
   "cell_type": "code",
   "execution_count": null,
   "id": "667fba9e",
   "metadata": {},
   "outputs": [],
   "source": [
    "# Defining a function that takes in a text and predicts with the help of model."
   ]
  },
  {
   "cell_type": "code",
   "execution_count": 43,
   "id": "47ceb1ec",
   "metadata": {},
   "outputs": [],
   "source": [
    "def diagnose(text):\n",
    "    textData = countVectorizer.transform([text])\n",
    "\n",
    "    print(grid.predict(textData))\n",
    "    classes = ['Anxiety', 'BPD', 'bipolar', 'depression', 'mentalillness',\n",
    "       'schizophrenia']\n",
    "    pd.DataFrame(grid.predict_proba(textData) * 100, columns=classes).plot(kind=\"bar\")\n",
    "    print(pd.DataFrame(grid.predict_proba(textData) * 100, columns=classes))\n",
    "\n",
    "    "
   ]
  },
  {
   "cell_type": "code",
   "execution_count": 49,
   "id": "93512b33",
   "metadata": {},
   "outputs": [],
   "source": [
    "text = \"\"\"Behavioural: antisocial behaviour, compulsive behaviour, hostility, impulsivity, irritability, risk-taking behaviours, self-destructive behaviour, self-harm, social isolation, or lack of restraint\n",
    "Mood: anger, anxiety, general discontent, guilt, loneliness, mood swings, or sadness\n",
    "Psychological: depression, distorted self-image, grandiosity, or narcissism\n",
    "Also common: thoughts of suicide\"\"\""
   ]
  },
  {
   "cell_type": "code",
   "execution_count": 50,
   "id": "20280947",
   "metadata": {},
   "outputs": [
    {
     "name": "stdout",
     "output_type": "stream",
     "text": [
      "['bipolar']\n",
      "        Anxiety        BPD    bipolar    depression  mentalillness  \\\n",
      "0  4.439077e-09  15.792037  84.164128  1.725624e-07       0.043835   \n",
      "\n",
      "   schizophrenia  \n",
      "0   2.398540e-10  \n"
     ]
    },
    {
     "data": {
      "image/png": "[encoded data removed]",
      "text/plain": [
       "<Figure size 640x480 with 1 Axes>"
      ]
     },
     "metadata": {},
     "output_type": "display_data"
    }
   ],
   "source": [
    "diagnose(text)"
   ]
  },
  {
   "cell_type": "code",
   "execution_count": 46,
   "id": "09952a39",
   "metadata": {},
   "outputs": [],
   "source": [
    "################################################################################################"
   ]
  },
  {
   "cell_type": "code",
   "execution_count": null,
   "id": "9b53cb49",
   "metadata": {},
   "outputs": [],
   "source": []
  },
  {
   "cell_type": "code",
   "execution_count": null,
   "id": "08b5bd17",
   "metadata": {},
   "outputs": [],
   "source": []
  },
  {
   "cell_type": "code",
   "execution_count": null,
   "id": "2b5becfa",
   "metadata": {},
   "outputs": [],
   "source": []
  },
  {
   "cell_type": "code",
   "execution_count": null,
   "id": "a4ce4bda",
   "metadata": {},
   "outputs": [],
   "source": []
  },
  {
   "cell_type": "code",
   "execution_count": null,
   "id": "1094d334",
   "metadata": {},
   "outputs": [],
   "source": []
  },
  {
   "cell_type": "code",
   "execution_count": null,
   "id": "8271b92e",
   "metadata": {},
   "outputs": [],
   "source": []
  },
  {
   "cell_type": "code",
   "execution_count": null,
   "id": "7802e367",
   "metadata": {},
   "outputs": [],
   "source": []
  },
  {
   "cell_type": "code",
   "execution_count": null,
   "id": "92cd4e7a",
   "metadata": {},
   "outputs": [],
   "source": []
  },
  {
   "cell_type": "code",
   "execution_count": null,
   "id": "2a526ea7",
   "metadata": {},
   "outputs": [],
   "source": []
  },
  {
   "cell_type": "code",
   "execution_count": null,
   "id": "d2361254",
   "metadata": {},
   "outputs": [],
   "source": []
  },
  {
   "cell_type": "code",
   "execution_count": null,
   "id": "39fa9688",
   "metadata": {},
   "outputs": [],
   "source": []
  },
  {
   "cell_type": "code",
   "execution_count": null,
   "id": "8d92a21d",
   "metadata": {},
   "outputs": [],
   "source": []
  }
 ],
 "metadata": {
  "kernelspec": {
   "display_name": "Python 3 (ipykernel)",
   "language": "python",
   "name": "python3"
  },
  "language_info": {
   "codemirror_mode": {
    "name": "ipython",
    "version": 3
   },
   "file_extension": ".py",
   "mimetype": "text/x-python",
   "name": "python",
   "nbconvert_exporter": "python",
   "pygments_lexer": "ipython3",
   "version": "3.9.13"
  }
 },
 "nbformat": 4,
 "nbformat_minor": 5
}
